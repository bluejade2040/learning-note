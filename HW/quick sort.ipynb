{
 "cells": [
  {
   "cell_type": "code",
   "execution_count": 5,
   "metadata": {},
   "outputs": [],
   "source": [
    "def quicksort(list):\n",
    "    #架設分類大小的list\n",
    "    low = []\n",
    "    equal = []\n",
    "    high = []\n",
    "    \n",
    "    #還有兩個值以上才要繼續跑\n",
    "    if len(list) >= 2:\n",
    "        #設立從頭開始的基準點\n",
    "        pivot = list[0]\n",
    "        \n",
    "        #分三類到三個list\n",
    "        for i in list:\n",
    "            if i > pivot:\n",
    "                high.append(i)\n",
    "            elif i == pivot:\n",
    "                equal.append(i)\n",
    "            elif i < pivot:\n",
    "                low.append(i)\n",
    "                \n",
    "        #將三個list合併，low跟high繼續跑\n",
    "        return quicksort(low)+equal+quicksort(high)\n",
    "    return list"
   ]
  },
  {
   "cell_type": "code",
   "execution_count": 6,
   "metadata": {},
   "outputs": [
    {
     "data": {
      "text/plain": [
       "[-7, -1, 0, 2, 3, 4, 4, 5, 6, 7, 9]"
      ]
     },
     "execution_count": 6,
     "metadata": {},
     "output_type": "execute_result"
    }
   ],
   "source": [
    "#實驗看看~~\n",
    "sort = [5,4,2,9,0,4,7,-1,6,-7,3]  \n",
    "quicksort(sort)"
   ]
  }
 ],
 "metadata": {
  "kernelspec": {
   "display_name": "Python 3",
   "language": "python",
   "name": "python3"
  },
  "language_info": {
   "codemirror_mode": {
    "name": "ipython",
    "version": 3
   },
   "file_extension": ".py",
   "mimetype": "text/x-python",
   "name": "python",
   "nbconvert_exporter": "python",
   "pygments_lexer": "ipython3",
   "version": "3.7.3"
  }
 },
 "nbformat": 4,
 "nbformat_minor": 2
}
